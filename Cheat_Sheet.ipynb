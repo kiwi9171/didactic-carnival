{
  "nbformat": 4,
  "nbformat_minor": 0,
  "metadata": {
    "colab": {
      "name": "Cheat Sheet.ipynb",
      "provenance": [],
      "collapsed_sections": [
        "QIexqltbulor",
        "VxKz5Av6LYb2",
        "3s1xaGC5Pr0u",
        "ILjZcUbbRI8V",
        "m-8VaKrzzBLS",
        "-VlBGYGdxAJF",
        "RlG0ggjQxEfi",
        "yKWnWMw4yWTv",
        "L-2oBz1MyaKR",
        "_e15fFhtPITa",
        "ybnj7ihUPOh9",
        "lApmMfZdSKvs",
        "alLZGVthSNmR",
        "IU5E0NLYAZBE"
      ],
      "authorship_tag": "ABX9TyMySr/6U0Am8nxEqnWIm866",
      "include_colab_link": true
    },
    "kernelspec": {
      "name": "python3",
      "display_name": "Python 3"
    },
    "language_info": {
      "name": "python"
    }
  },
  "cells": [
    {
      "cell_type": "markdown",
      "metadata": {
        "id": "view-in-github",
        "colab_type": "text"
      },
      "source": [
        "<a href=\"https://colab.research.google.com/github/kiwi9171/didactic-carnival/blob/main/Cheat_Sheet.ipynb\" target=\"_parent\"><img src=\"https://colab.research.google.com/assets/colab-badge.svg\" alt=\"Open In Colab\"/></a>"
      ]
    },
    {
      "cell_type": "markdown",
      "source": [
        "#Imports"
      ],
      "metadata": {
        "id": "QIexqltbulor"
      }
    },
    {
      "cell_type": "code",
      "metadata": {
        "id": "BG6iGVmgaGi6",
        "colab": {
          "base_uri": "https://localhost:8080/"
        },
        "outputId": "fe5ebeaf-a7f9-47bd-c843-ebd456853266"
      },
      "source": [
        "# general imports\n",
        "import pandas as pd\n",
        "import numpy as np\n",
        "import statsmodels.api as sm\n",
        "import statsmodels.formula.api as smf\n",
        "import seaborn as sns\n",
        "import matplotlib.pyplot as plt\n",
        "from statsmodels.iolib.summary2 import summary_col\n",
        "\n",
        "# definition cronbachs alpha\n",
        "def cronbach (data):\n",
        "  k=data.shape [1]\n",
        "  varX=data.sum(axis=1).var()\n",
        "  sumVar=data.var(axis=0).sum()\n",
        "  return k/(k-1)*(1-sumVar/varX)\n",
        "\n",
        "# imports for panel regression\n",
        "!pip install linearmodels\n",
        "from linearmodels import PanelOLS\n",
        "\n",
        "# imports Regressors\n",
        "from sklearn.linear_model import LinearRegression\n",
        "from sklearn.neighbors import KNeighborsRegressor\n",
        "from sklearn.linear_model import LogisticRegression\n",
        "from sklearn.tree import DecisionTreeRegressor\n",
        "from sklearn.ensemble import GradientBoostingRegressor\n",
        "from sklearn.ensemble import RandomForestRegressor\n",
        "\n",
        "# imports Classifiers\n",
        "from sklearn.neighbors import KNeighborsClassifier\n",
        "from sklearn.ensemble import RandomForestClassifier\n",
        "from sklearn.ensemble import GradientBoostingClassifier\n",
        "from sklearn.tree import DecisionTreeClassifier\n",
        "from sklearn import tree\n",
        "\n",
        "# imports model selection\n",
        "from sklearn.model_selection import train_test_split\n",
        "from sklearn.model_selection import RandomizedSearchCV\n",
        "from sklearn.model_selection import GridSearchCV\n",
        "from sklearn.model_selection import cross_val_score\n",
        "\n",
        "# imports metrics\n",
        "from sklearn.metrics import accuracy_score\n",
        "from sklearn.metrics import mean_squared_error as MSE\n",
        "from sklearn.metrics import r2_score\n",
        "from sklearn.metrics import mean_squared_error\n",
        "\n",
        "# imports inspection\n",
        "from sklearn.inspection import PartialDependenceDisplay\n",
        "from sklearn.inspection import plot_partial_dependence\n",
        "\n",
        "# import dataframe\n",
        "path_to_df = 'https://raw.githubusercontent.com/armoutihansen/EEMP2021/main/datasets/AMP_Data.csv'\n",
        "df = pd.read_csv(path_to_df)"
      ],
      "execution_count": null,
      "outputs": [
        {
          "output_type": "stream",
          "name": "stdout",
          "text": [
            "Requirement already satisfied: linearmodels in /usr/local/lib/python3.7/dist-packages (4.24)\n",
            "Requirement already satisfied: scipy>=1.2 in /usr/local/lib/python3.7/dist-packages (from linearmodels) (1.4.1)\n",
            "Requirement already satisfied: statsmodels>=0.11 in /usr/local/lib/python3.7/dist-packages (from linearmodels) (0.13.1)\n",
            "Requirement already satisfied: pandas>=0.24 in /usr/local/lib/python3.7/dist-packages (from linearmodels) (1.1.5)\n",
            "Requirement already satisfied: mypy-extensions>=0.4 in /usr/local/lib/python3.7/dist-packages (from linearmodels) (0.4.3)\n",
            "Requirement already satisfied: pyhdfe>=0.1 in /usr/local/lib/python3.7/dist-packages (from linearmodels) (0.1.0)\n",
            "Requirement already satisfied: Cython>=0.29.21 in /usr/local/lib/python3.7/dist-packages (from linearmodels) (0.29.24)\n",
            "Requirement already satisfied: property-cached>=1.6.3 in /usr/local/lib/python3.7/dist-packages (from linearmodels) (1.6.4)\n",
            "Requirement already satisfied: patsy in /usr/local/lib/python3.7/dist-packages (from linearmodels) (0.5.2)\n",
            "Requirement already satisfied: numpy>=1.16 in /usr/local/lib/python3.7/dist-packages (from linearmodels) (1.19.5)\n",
            "Requirement already satisfied: python-dateutil>=2.7.3 in /usr/local/lib/python3.7/dist-packages (from pandas>=0.24->linearmodels) (2.8.2)\n",
            "Requirement already satisfied: pytz>=2017.2 in /usr/local/lib/python3.7/dist-packages (from pandas>=0.24->linearmodels) (2018.9)\n",
            "Requirement already satisfied: six>=1.5 in /usr/local/lib/python3.7/dist-packages (from python-dateutil>=2.7.3->pandas>=0.24->linearmodels) (1.15.0)\n"
          ]
        }
      ]
    },
    {
      "cell_type": "markdown",
      "source": [
        "#General"
      ],
      "metadata": {
        "id": "VxKz5Av6LYb2"
      }
    },
    {
      "cell_type": "code",
      "source": [
        "# prints help for every python function\n",
        "help(df.head)"
      ],
      "metadata": {
        "id": "a_nhROHR8YHb"
      },
      "execution_count": null,
      "outputs": []
    },
    {
      "cell_type": "code",
      "source": [
        "# square a number in python\n",
        "4**2"
      ],
      "metadata": {
        "id": "PuxpJzd7-OVo"
      },
      "execution_count": null,
      "outputs": []
    },
    {
      "cell_type": "code",
      "source": [
        "# if statement\n",
        "if 4**2 == 16:\n",
        "  print(\"Correct\")"
      ],
      "metadata": {
        "id": "v6HjyhFpfUvH"
      },
      "execution_count": null,
      "outputs": []
    },
    {
      "cell_type": "code",
      "source": [
        "# example for a python list\n",
        "l1 = [i for i in range(10)]\n",
        "print(l1)"
      ],
      "metadata": {
        "id": "85KjGAhDgPxL"
      },
      "execution_count": null,
      "outputs": []
    },
    {
      "cell_type": "code",
      "source": [
        "# access a list in python\n",
        "print(l1[2])\n",
        "print(l1[3:7])"
      ],
      "metadata": {
        "id": "WUnb5tfKgotd"
      },
      "execution_count": null,
      "outputs": []
    },
    {
      "cell_type": "code",
      "source": [
        "# example for loop\n",
        "result = 0\n",
        "for number in range(0, 10, 2):\n",
        "  result += number\n",
        "  print(result)"
      ],
      "metadata": {
        "id": "zXmg4Wdgg-8b"
      },
      "execution_count": null,
      "outputs": []
    },
    {
      "cell_type": "code",
      "source": [
        "# define an empty list named pred_list\n",
        "pred_liste = []"
      ],
      "metadata": {
        "id": "35oR3h14AGNS"
      },
      "execution_count": null,
      "outputs": []
    },
    {
      "cell_type": "code",
      "source": [
        "# store results in a list\n",
        "# define an empty list\n",
        "pred_liste = []\n",
        "# run a for loop\n",
        "for i in range(100):\n",
        "  pred_liste.append(1+i)\n",
        "print(pred_liste)"
      ],
      "metadata": {
        "id": "EJrR4xfF-Wy4"
      },
      "execution_count": null,
      "outputs": []
    },
    {
      "cell_type": "markdown",
      "source": [
        "#Basics, Exploratory Data Analysis and Descriptive Statistics"
      ],
      "metadata": {
        "id": "3s1xaGC5Pr0u"
      }
    },
    {
      "cell_type": "code",
      "source": [
        "# gives back the #rows and #columns\n",
        "df.shape"
      ],
      "metadata": {
        "id": "Oi87h4nch2mK"
      },
      "execution_count": null,
      "outputs": []
    },
    {
      "cell_type": "code",
      "source": [
        "# gives back all columns\n",
        "df.columns"
      ],
      "metadata": {
        "id": "hGi_3tiZiDqU"
      },
      "execution_count": null,
      "outputs": []
    },
    {
      "cell_type": "code",
      "source": [
        "df.info()"
      ],
      "metadata": {
        "id": "tCVbhKkniMP6"
      },
      "execution_count": null,
      "outputs": []
    },
    {
      "cell_type": "code",
      "metadata": {
        "id": "NN8NRZtznPrp"
      },
      "source": [
        "#print summary statistics for all variables\n",
        "df.describe()"
      ],
      "execution_count": null,
      "outputs": []
    },
    {
      "cell_type": "code",
      "source": [
        "# print the first few rows of df\n",
        "df.head()"
      ],
      "metadata": {
        "id": "yDK06Fen8Nm1"
      },
      "execution_count": null,
      "outputs": []
    },
    {
      "cell_type": "code",
      "source": [
        "# gives back the values of a certain column\n",
        "print(sorted(df['country'].unique()))"
      ],
      "metadata": {
        "id": "Xk3-ta2SiYP1"
      },
      "execution_count": null,
      "outputs": []
    },
    {
      "cell_type": "code",
      "source": [
        "# gives back the distribution of certain values\n",
        "# exchanging value_counts() with value_counts(normalize=True) shows percentages\n",
        "print(df['country'].value_counts())"
      ],
      "metadata": {
        "id": "-PttKVwMi7a1"
      },
      "execution_count": null,
      "outputs": []
    },
    {
      "cell_type": "code",
      "metadata": {
        "id": "nh0qshnXnrDU"
      },
      "source": [
        "#print summary statistics for one specific variable\n",
        "df.management.describe()"
      ],
      "execution_count": null,
      "outputs": []
    },
    {
      "cell_type": "code",
      "metadata": {
        "id": "BgR-Dez0ny_c"
      },
      "source": [
        "#compute mean \n",
        "df.management.mean()"
      ],
      "execution_count": null,
      "outputs": []
    },
    {
      "cell_type": "code",
      "metadata": {
        "id": "j_bp3nRdn-3F"
      },
      "source": [
        "#compute standard deviation\n",
        "df.management.std()"
      ],
      "execution_count": null,
      "outputs": []
    },
    {
      "cell_type": "code",
      "source": [
        "# distribution of a specific column\n",
        "print(df['dead'].value_counts(normalize=True))"
      ],
      "metadata": {
        "id": "4s78SEhdkmGs"
      },
      "execution_count": null,
      "outputs": []
    },
    {
      "cell_type": "code",
      "metadata": {
        "id": "JcbzxCMZoG41"
      },
      "source": [
        "#explore summary statistics for specific subgroups (rows)\n",
        "df.groupby('year').management.describe()"
      ],
      "execution_count": null,
      "outputs": []
    },
    {
      "cell_type": "code",
      "source": [
        "# print mean of one variable dependent on another variable\n",
        "mean_mgm_score_by_cou = df['management'].groupby(df['country']).mean()\n",
        "print(mean_mgm_score_by_cou)"
      ],
      "metadata": {
        "id": "GDdGPrBXlEHj"
      },
      "execution_count": null,
      "outputs": []
    },
    {
      "cell_type": "code",
      "metadata": {
        "id": "B6LaH6PpoZM-"
      },
      "source": [
        "#print correlation matrix\n",
        "df.corr()"
      ],
      "execution_count": null,
      "outputs": []
    },
    {
      "cell_type": "code",
      "metadata": {
        "id": "rkCLowdno6Hj"
      },
      "source": [
        "#show correlation between two variables\n",
        "df.filter(items=['management', 'roce']).corr()"
      ],
      "execution_count": null,
      "outputs": []
    },
    {
      "cell_type": "code",
      "metadata": {
        "id": "I2PiQbuApuOX"
      },
      "source": [
        "#show correlation between all variables starting with \"talent\"\n",
        "df.filter(regex='talent*').corr()"
      ],
      "execution_count": null,
      "outputs": []
    },
    {
      "cell_type": "code",
      "source": [
        "# create a new vairable\n",
        "df['china_dummy'] = df['country'] == 'China'"
      ],
      "metadata": {
        "id": "KAwED1J4Qjnh"
      },
      "execution_count": null,
      "outputs": []
    },
    {
      "cell_type": "code",
      "metadata": {
        "id": "jkFxrCxfqD_-"
      },
      "source": [
        "#create a new variable that computes the average of all talent variables\n",
        "#mean function: axis=0 --> rows/observations; axis=1 --> columns/variables\n",
        "df['talent'] = df.filter(regex='talent*').mean(axis=1)\n",
        "print(df.talent)"
      ],
      "execution_count": null,
      "outputs": []
    },
    {
      "cell_type": "code",
      "metadata": {
        "id": "wl4aXe1kqsPW"
      },
      "source": [
        "#standarize variables\n",
        "df['tal_std']= (df.talent-df.talent.mean()/df.talent.std())\n",
        "print(df.tal_std)"
      ],
      "execution_count": null,
      "outputs": []
    },
    {
      "cell_type": "code",
      "metadata": {
        "id": "_upnhF1Ps4_y"
      },
      "source": [
        "#cronbach's alpha function\n",
        "# Cronbach's alpha is frequently applied measure for the internal consistency of a scale\n",
        "# good internal consistency if alpha > 0.8\n",
        "\n",
        "def cronbach(data):\n",
        "  k=data.shape[1]\n",
        "  varX=data.var(axis=0).sum()\n",
        "  return k/(k-1)*(1-sumVar/varX)"
      ],
      "execution_count": null,
      "outputs": []
    },
    {
      "cell_type": "markdown",
      "source": [
        "#Graphs & Plots"
      ],
      "metadata": {
        "id": "ILjZcUbbRI8V"
      }
    },
    {
      "cell_type": "code",
      "metadata": {
        "id": "CqjyIVrRtWB9"
      },
      "source": [
        "#prints a barplot\n",
        "sns.barplot(x='year', y='roce', data=df)\n",
        "# 95 % confidence bands are included"
      ],
      "execution_count": null,
      "outputs": []
    },
    {
      "cell_type": "code",
      "source": [
        "#prints a scatter plot where each dot is a data point\n",
        "sns.relplot (x='year', y='roce',data=df)"
      ],
      "metadata": {
        "id": "XA82B3aOjYTO"
      },
      "execution_count": null,
      "outputs": []
    },
    {
      "cell_type": "code",
      "source": [
        "#prints a histogram\n",
        "sns.distplot(df['roce'])"
      ],
      "metadata": {
        "id": "9tY2TGTJjrl3"
      },
      "execution_count": null,
      "outputs": []
    },
    {
      "cell_type": "code",
      "metadata": {
        "id": "sPKb8gXhzPHF"
      },
      "source": [
        "#prints a scatter plot with a gression line; x_bins changes the amount of blue dots; order= u-shape vs s-shape\n",
        "sns.regplot(y='roce',x='year', data=df, x_bins=10, order=2)"
      ],
      "execution_count": null,
      "outputs": []
    },
    {
      "cell_type": "code",
      "source": [
        "# plot histogram\n",
        "plt.hist(df['management'])\n",
        "plt.xlabel('management score')\n",
        "plt.ylabel('count')\n",
        "plt.show();"
      ],
      "metadata": {
        "id": "YxBoEuezmZ0B"
      },
      "execution_count": null,
      "outputs": []
    },
    {
      "cell_type": "code",
      "source": [
        "# plot Scatter plot \n",
        "plt.scatter(df['management'],df['roce'])\n",
        "plt.xlim(0,)\n",
        "plt.xlabel('management')\n",
        "plt.ylabel('roce')\n",
        "plt.show();"
      ],
      "metadata": {
        "id": "67UmwAswm7Ts"
      },
      "execution_count": null,
      "outputs": []
    },
    {
      "cell_type": "markdown",
      "source": [
        "#Simulate a Data Set"
      ],
      "metadata": {
        "id": "m-8VaKrzzBLS"
      }
    },
    {
      "cell_type": "code",
      "source": [
        "\n",
        "#Simulate a data set\n",
        "\n",
        "#n = number of observations\n",
        "n = 100\n",
        "\n",
        "#create a DataFrame with n rows\n",
        "df2=pd.DataFrame(index=range(n))\n",
        "\n",
        "#create a colum x that is a vector of n normally distributed random variables\n",
        "# in this case: 100= mean, 15 = standard deviation\n",
        "df2['x']=np.random.normal(100,15,n)\n",
        "#create a column y to a Cconditional expectation function (CEF) that looks like this --> y = 200 + 2x\n",
        "# second part of the equotion is the noise with a mean of 0 and a std of 500\n",
        "df2['y']=200+2*df2['x'] + np.random.normal(0,500,n)\n",
        "df2"
      ],
      "metadata": {
        "id": "mXm5WtmKyzyA"
      },
      "execution_count": null,
      "outputs": []
    },
    {
      "cell_type": "code",
      "source": [
        "#create a dummy variable which takes value 1 for 5 % randomly chosen individuals\n",
        "n = 100\n",
        "df2['dummy1']=np.random.binomial(1, 0.05,n)\n",
        "sns.distplot(df2['dummy1'])"
      ],
      "metadata": {
        "id": "40B-9gpZ3c_W"
      },
      "execution_count": null,
      "outputs": []
    },
    {
      "cell_type": "code",
      "source": [
        "#generate a uniformally distributed random variable named rdage\n",
        "df2['rdage'] = np.random.uniform(18, 70, size =n)\n",
        "sns.distplot(df2['rdage'])"
      ],
      "metadata": {
        "id": "oKqOJ8359m0B"
      },
      "execution_count": null,
      "outputs": []
    },
    {
      "cell_type": "code",
      "source": [
        "#generate a uniformally distributed random variable named rdincome\n",
        "df2['rdincome'] = np.random.normal(0, 10, size =n)\n",
        "sns.distplot(df2['rdincome'])"
      ],
      "metadata": {
        "id": "a9IYcA6198Fk"
      },
      "execution_count": null,
      "outputs": []
    },
    {
      "cell_type": "markdown",
      "source": [
        "#Data Manipulation"
      ],
      "metadata": {
        "id": "-VlBGYGdxAJF"
      }
    },
    {
      "cell_type": "code",
      "source": [
        "# remove missing values from a DataFrame\n",
        "df_new = df.dropna()"
      ],
      "metadata": {
        "id": "dOI5aGgpeK5f"
      },
      "execution_count": null,
      "outputs": []
    },
    {
      "cell_type": "code",
      "source": [
        "# drop columns\n",
        "df_new = df_new.drop(columns=['dead','year'])"
      ],
      "metadata": {
        "id": "hsGmwLU-JZwa"
      },
      "execution_count": null,
      "outputs": []
    },
    {
      "cell_type": "code",
      "source": [
        "#create a dummy variable with a certain condition\n",
        "# == --> equals\n",
        "#other possible operators: <, >, >=, <=, !=\n",
        "df['dummy_2006'] = (df['year']== 2006)\n",
        "# creates a dummy variable with only zeros\n",
        "df['dummy_test'] = 0 "
      ],
      "metadata": {
        "id": "PaMv8Twcip6T"
      },
      "execution_count": null,
      "outputs": []
    },
    {
      "cell_type": "code",
      "source": [
        "#select specific columns of the data\n",
        "df['management']"
      ],
      "metadata": {
        "id": "uIS5lfSMlOhl"
      },
      "execution_count": null,
      "outputs": []
    },
    {
      "cell_type": "code",
      "source": [
        "#select a column if it satisfies a certain condition\n",
        "df[df['year']==2006]"
      ],
      "metadata": {
        "id": "mlEDlgtblRs8"
      },
      "execution_count": null,
      "outputs": []
    },
    {
      "cell_type": "code",
      "source": [
        "#select a column if it satisfies more than one condition\n",
        "# for and use & \n",
        "# for or use |\n",
        "df[(df['year']==2006) & (df['talent']==5)]"
      ],
      "metadata": {
        "id": "fUoFaaTvo-sA"
      },
      "execution_count": null,
      "outputs": []
    },
    {
      "cell_type": "code",
      "source": [
        "# slice the data by rows and columns or just rows or just columns\n",
        "df.loc[0:100, ['roce', 'country']]"
      ],
      "metadata": {
        "id": "T4XiSdVQkSHp"
      },
      "execution_count": null,
      "outputs": []
    },
    {
      "cell_type": "markdown",
      "source": [
        "#Regression"
      ],
      "metadata": {
        "id": "RlG0ggjQxEfi"
      }
    },
    {
      "cell_type": "code",
      "metadata": {
        "id": "tf_p7UBLyM2A"
      },
      "source": [
        "#estimates an ols regression of talent and management on roce --> regresses y (roce) on x1 (talent) and x2 (management)\n",
        "# uses statsmodels\n",
        "reg1 = smf.ols('roce ~ talent + management', data=df).fit()\n",
        "reg2 = smf.ols('roce ~ year', data=df).fit()\n",
        "print(reg1.summary())"
      ],
      "execution_count": null,
      "outputs": []
    },
    {
      "cell_type": "markdown",
      "source": [
        "**Interpretation for a regression coefficient**: The coefficient of the dependent variable 'talent' amounts to 1.4223 and is statistically significant at the 1% level (p==0.007). \n",
        "\n",
        "When the dependent variable talent increases by one unit the roce increases by 1.4223 units. Thus, the retrun on capital employed (roce) increases if the employees of a firm are more talented."
      ],
      "metadata": {
        "id": "EZgLfkrHmLby"
      }
    },
    {
      "cell_type": "code",
      "metadata": {
        "id": "mgQtUuPryoQf"
      },
      "source": [
        "#allows to compare multiple regressions in one table\n",
        "print(summary_col([reg1, reg2], stars=True))"
      ],
      "execution_count": null,
      "outputs": []
    },
    {
      "cell_type": "code",
      "source": [
        "#for categorial variables dummy variables can be generated automatically with C(categorial variable)\n",
        "reg3 = smf.ols('roce ~ talent + management + C(hour_miss)', data=df).fit()\n",
        "print(reg3.summary())"
      ],
      "metadata": {
        "id": "0pWg-jjGqB2t"
      },
      "execution_count": null,
      "outputs": []
    },
    {
      "cell_type": "code",
      "source": [
        "#interaction terms can be genrated by using *\n",
        "# interpreting interaction term --> might be helpful to run another regression\n",
        "reg4 = smf.ols('roce ~ talent * management', data=df).fit()\n",
        "print(reg4.summary())"
      ],
      "metadata": {
        "id": "hAgu-d3UrcmJ"
      },
      "execution_count": null,
      "outputs": []
    },
    {
      "cell_type": "code",
      "source": [
        "# transform variables within the regression equation\n",
        "reg5 = smf.ols('roce ~ np.log(talent) + management', data=df).fit()\n",
        "print(reg5.summary())"
      ],
      "metadata": {
        "id": "t9M3VYcgsJMG"
      },
      "execution_count": null,
      "outputs": []
    },
    {
      "cell_type": "code",
      "source": [
        "#cluster standard errors in a regression\n",
        "#standard errors are estimated under the assumption that they are independent\n",
        "#if they are not independent --> p-values are smaller than they should be\n",
        "#solution: use clustered standard errors\n",
        "reg6 = smf.ols('roce ~ talent + management', data=df).fit(cov_type='cluster', cov_kwds ={'groups': df['account_id']})\n",
        "print(reg6.summary())"
      ],
      "metadata": {
        "id": "Xfq3Hzaby_T5"
      },
      "execution_count": null,
      "outputs": []
    },
    {
      "cell_type": "markdown",
      "source": [
        "#Panel Data"
      ],
      "metadata": {
        "id": "yKWnWMw4yWTv"
      }
    },
    {
      "cell_type": "code",
      "source": [
        "#way to tackle Omitted Variable Bias (OVB) --> Panel Data\n",
        "# also called Fixed Effects Regression\n",
        "# for this data: emp = number of emplyoees, ppent = capital, account_id = identifier for each firm\n",
        "df = df.set_index(['account_id','year'])\n",
        "df['sales_log'] = np.log(df['sales'])\n",
        "df['emp_log'] = np.log(df['emp'])\n",
        "df['ppent_log'] = np.log(df['ppent'])\n",
        "\n",
        "reg7 = PanelOLS.from_formula('sales_log ~ management + emp_log + ppent_log + EntityEffects + TimeEffects', data=df).fit()\n",
        "print(reg7)"
      ],
      "metadata": {
        "id": "3orwIZHl-LYG"
      },
      "execution_count": null,
      "outputs": []
    },
    {
      "cell_type": "markdown",
      "source": [
        "#Machine Learning"
      ],
      "metadata": {
        "id": "L-2oBz1MyaKR"
      }
    },
    {
      "cell_type": "code",
      "source": [
        "#define y as a vector and X as a matrix\n",
        "y = df['roce']\n",
        "X = df[['management']]"
      ],
      "metadata": {
        "id": "Ad2HOU-zActv"
      },
      "execution_count": null,
      "outputs": []
    },
    {
      "cell_type": "code",
      "source": [
        "# devide X and y in training and test data; test_size is the amount of the data in % used for the test sample\n",
        "X_train, X_test, y_train, y_test = train_test_split(X,y, test_size=0.5, random_state=181)"
      ],
      "metadata": {
        "id": "-TgnZrkjdStP"
      },
      "execution_count": null,
      "outputs": []
    },
    {
      "cell_type": "markdown",
      "source": [
        "#ML Regression\n"
      ],
      "metadata": {
        "id": "_e15fFhtPITa"
      }
    },
    {
      "cell_type": "code",
      "source": [
        "#linear regression using Scikit-Learn\n",
        "lr = LinearRegression().fit(X,y)"
      ],
      "metadata": {
        "id": "pB6ri5EW5bVi"
      },
      "execution_count": null,
      "outputs": []
    },
    {
      "cell_type": "code",
      "source": [
        "# make a prediction at X = [[1]]\n",
        "pred1 = lr.predict([[1]])\n",
        "print(pred1)"
      ],
      "metadata": {
        "id": "9K6TWRcK7yaY"
      },
      "execution_count": null,
      "outputs": []
    },
    {
      "cell_type": "code",
      "source": [
        "# K Nearest Neighbors regression (knn regression) in Scikit-Learn\n",
        "# n_neighbors=x --> x is the number of neighbors\n",
        "knn = KNeighborsRegressor(n_neighbors=10).fit(X,y)\n",
        "# make a prediction at X = [[1]]\n",
        "pred2 = knn.predict([[1]])\n",
        "print(pred2)"
      ],
      "metadata": {
        "id": "_52F663R79l1"
      },
      "execution_count": null,
      "outputs": []
    },
    {
      "cell_type": "code",
      "source": [
        "# Suppose you estimate f by f^ = B^0 + B^^1 * age. Attempt to estimate the (squared) bias and variance of f^ at age = 50, based on a sample size of \n",
        "# 10,000 by resampling the data 100 times.\n",
        "# gives back the squarred bias and the variance\n",
        "# Same thing possible for knn regression\n",
        "pred_list = []\n",
        "for i in range(100):\n",
        "  n=10000\n",
        "  df5 = pd.DataFrame(index=range(n))\n",
        "  df5['age'] = np.random.uniform(18,70, size=n)\n",
        "  df5['income'] = (2*df5['age']-0.002*df5['age']**2 + np.random.normal(0,10,size=n))\n",
        "  y1 = df5['income']\n",
        "  X1 = df5[['age']]\n",
        "  # .values was added to get rid of the useless error message\n",
        "  lr2 = LinearRegression().fit(X1.values,y1)\n",
        "  pred4 = lr2.predict([[50]])\n",
        "  pred_list.append(pred4)\n",
        "\n",
        "Var_lr = np.var(pred_list)\n",
        "Bias_lr = (95-np.mean(pred_list))**2\n",
        "print(Var_lr)\n",
        "print(Bias_lr)"
      ],
      "metadata": {
        "id": "Q9nU5XNjAcT1"
      },
      "execution_count": null,
      "outputs": []
    },
    {
      "cell_type": "markdown",
      "source": [
        "#ML Classification"
      ],
      "metadata": {
        "id": "ybnj7ihUPOh9"
      }
    },
    {
      "cell_type": "code",
      "source": [
        "# fit a logistic regression from Scikit-Learn\n",
        "# y has to be binary\n",
        "y_cl = df['hour_miss']\n",
        "X_cl = df[['management']]\n",
        "# devide X and y in training and test data; test_size is the amount of the data in % used for the test sample\n",
        "X_train, X_test, y_train, y_test = train_test_split(X_cl,y_cl, test_size=0.5, random_state=181)\n",
        "logreg = LogisticRegression().fit(X_cl,y_cl)\n",
        "pred_logreg = logreg.predict([[100]])\n",
        "print(pred_logreg)"
      ],
      "metadata": {
        "id": "3Mgbt0WQDE6R"
      },
      "execution_count": null,
      "outputs": []
    },
    {
      "cell_type": "code",
      "source": [
        "# estimate the train misclassification rate\n",
        "pred_lreg_train = logreg.predict(X_train)\n",
        "print('Train Misclassification Rate:', 1-accuracy_score(y_train, pred_lreg_train))\n",
        "\n",
        "# estimate the test misclassification rate\n",
        "pred_lreg_test = logreg.predict(X_test)\n",
        "print('Test Misclassification Rate:', 1-accuracy_score(y_test, pred_lreg_test))"
      ],
      "metadata": {
        "id": "unNcKDWBFKfo"
      },
      "execution_count": null,
      "outputs": []
    },
    {
      "cell_type": "code",
      "source": [
        "# fit a KNN classification in Scikit-Learn\n",
        "# n_neighbors = x --> x is the number of neighbors\n",
        "knn = KNeighborsClassifier(n_neighbors=1).fit(X_train, y_train)\n",
        "\n",
        "#Calculate train misclassifcation rate\n",
        "knn_train_pred = knn.predict(X_train)\n",
        "print('Train Misclassification Rate:', 1-accuracy_score(y_train, knn_train_pred))\n",
        "\n",
        "#Calculate test misclassifcation rate\n",
        "knn_test_pred = knn.predict(X_test)\n",
        "print('Test Misclassification Rate:', 1-accuracy_score(y_test, knn_test_pred))"
      ],
      "metadata": {
        "id": "tZYa_GB4HVQ7"
      },
      "execution_count": null,
      "outputs": []
    },
    {
      "cell_type": "code",
      "source": [
        "# 5-fold cross validation for a knn Regressor\n",
        "# typically 5 or 10 fold corss validation\n",
        "n= 10000\n",
        "df5 = pd.DataFrame(index=range(n))\n",
        "df5['age'] = np.random.uniform (18,70, size=n)\n",
        "df5['income']=(2*df5['age']-0.002*df5['age']**2 + np.random.normal(0,10,size=n))\n",
        "y_rg = df5['income']\n",
        "X_rg = df5[['age']]\n",
        "X_train, X_test, y_train, y_test = train_test_split(X_rg,y_rg,test_size=0.25)\n",
        "\n",
        "# k_neighbors = {10,11,...,100}\n",
        "# for loop gives back the the cross validation average error for each k\n",
        "plot_cv =[]\n",
        "plot_k =[]\n",
        "for k in range(10,101):\n",
        "  knn = KNeighborsRegressor(n_neighbors = k)\n",
        "  cv = cross_val_score(knn, X_train, y_train, cv=5, scoring='neg_mean_squared_error')*-1\n",
        "  mean_cv = np.mean(cv)\n",
        "  plot_cv.append(mean_cv)\n",
        "  plot_k.append(k)\n",
        "\n",
        "# prints a diagram showing the average croiss validation error for each k\n",
        "plt.plot(plot_k,plot_cv)"
      ],
      "metadata": {
        "id": "YoWiDWOgJUet"
      },
      "execution_count": null,
      "outputs": []
    },
    {
      "cell_type": "code",
      "source": [
        "# find out the minimum k\n",
        "# + 10 because of the k chosen\n",
        "# np.argmin gives back the minimum value\n",
        "np.argmin(plot_cv)+10"
      ],
      "metadata": {
        "id": "duee4zBHMcgf"
      },
      "execution_count": null,
      "outputs": []
    },
    {
      "cell_type": "code",
      "source": [
        "# calculate the mean squarred error (MSE) for the optimal k\n",
        "# instead of (np.argmin(plot_cv)+10) use the number of the minmal k\n",
        "knn_opt = KNeighborsRegressor(n_neighbors=(np.argmin(plot_cv)+10)).fit(X_train,y_train)\n",
        "predictions = knn_opt.predict(X_test)\n",
        "MSE(predictions,y_test)\n"
      ],
      "metadata": {
        "id": "Kss9OOnJN8nl"
      },
      "execution_count": null,
      "outputs": []
    },
    {
      "cell_type": "code",
      "source": [
        "# just for comparison: the worst k \n",
        "knn_nopt = KNeighborsRegressor(n_neighbors=10).fit(X_train,y_train)\n",
        "nopt_preds = knn_nopt.predict(X_test)\n",
        "MSE(nopt_preds,y_test)"
      ],
      "metadata": {
        "id": "EB0APwKoOhlR"
      },
      "execution_count": null,
      "outputs": []
    },
    {
      "cell_type": "markdown",
      "source": [
        "#ML Decision Trees"
      ],
      "metadata": {
        "id": "lApmMfZdSKvs"
      }
    },
    {
      "cell_type": "code",
      "source": [
        "# Decision Tree for regression: fit tree and predict\n",
        "X_train, X_test, y_train, y_test = train_test_split(X,y, test_size=0.5, random_state=181)\n",
        "rg_dt = DecisionTreeRegressor(max_depth=2).fit(X_train,y_train)\n",
        "rg_dt_preds = rg_dt.predict(X_test)\n",
        "\n",
        "# print MSE\n",
        "print('MSE:',MSE(y_test,rg_dt_preds))"
      ],
      "metadata": {
        "id": "fOVEX46JOvsc"
      },
      "execution_count": null,
      "outputs": []
    },
    {
      "cell_type": "code",
      "source": [
        "#plot a tree\n",
        "plt.figure(figsize=(20,10))\n",
        "tree.plot_tree(rg_dt, feature_names=X_train.columns)"
      ],
      "metadata": {
        "id": "rtXm_bSsP5UX"
      },
      "execution_count": null,
      "outputs": []
    },
    {
      "cell_type": "code",
      "source": [
        "# Decision Tree for classification: fit tree and predict\n",
        "X_train, X_test, y_train, y_test = train_test_split(X_cl,y_cl,test_size=0.5)\n",
        "cl_dt = DecisionTreeClassifier(max_depth=2).fit(X_train,y_train)\n",
        "cl_dt_preds = cl_dt.predict(X_test)\n",
        "\n",
        "# print misclassifcation rate (1 - accuracy_score)\n",
        "print('Misclassification Rate:', 1-accuracy_score(y_test, cl_dt_preds))"
      ],
      "metadata": {
        "id": "GCN-4yUQQRYO"
      },
      "execution_count": null,
      "outputs": []
    },
    {
      "cell_type": "markdown",
      "source": [
        "#ML Ensemble Learning"
      ],
      "metadata": {
        "id": "alLZGVthSNmR"
      }
    },
    {
      "cell_type": "code",
      "source": [
        "# Bagging --> Random Forest\n",
        "#regression\n",
        "# fit a random forest on the training set for a regression problem\n",
        "X_train, X_test, y_train, y_test = train_test_split(X_rg,y_rg,test_size=0.5)\n",
        "\n",
        "rf_rg = RandomForestRegressor(n_estimators=1000, max_depth=None, max_features='sqrt', random_state=181, n_jobs=-1)\n",
        "rf_rg.fit(X_train, y_train)\n",
        "rf_rg_preds = rf_rg.predict(X_test)\n",
        "\n",
        "# print MSE\n",
        "print('MSE:',MSE(y_test,rf_rg_preds))"
      ],
      "metadata": {
        "id": "GvX7Jtm9QecP"
      },
      "execution_count": null,
      "outputs": []
    },
    {
      "cell_type": "code",
      "source": [
        "# Bagging --> Random Forest\n",
        "# classification\n",
        "# fit a random forest on the training set for a classification problem\n",
        "X_train, X_test, y_train, y_test = train_test_split(X_cl,y_cl,test_size=0.5)\n",
        "\n",
        "rf_rg = RandomForestClassifier(n_estimators=1000, max_depth=None, max_features='sqrt', random_state=181, n_jobs=-1)\n",
        "rf_rg.fit(X_train, y_train)\n",
        "rf_rg_preds = rf_rg.predict(X_test)\n",
        "\n",
        "# print misclassifcation rate (1 - accuracy_score)\n",
        "print('Misclassification Rate:', 1-accuracy_score(y_test, rf_rg_preds))"
      ],
      "metadata": {
        "id": "IqnDH9pZS8cR"
      },
      "execution_count": null,
      "outputs": []
    },
    {
      "cell_type": "code",
      "source": [
        "# Boosting --> Gradient Boosting\n",
        "# Regression problem\n",
        "# fit a Gradient Boosting Regressor on the training set\n",
        "X_train, X_test, y_train, y_test = train_test_split(X_rg,y_rg,test_size=0.5)\n",
        "\n",
        "gb_rg = GradientBoostingRegressor(n_estimators=100, learning_rate=0.1, max_depth=3, random_state=181)\n",
        "gb_rg.fit(X_train, y_train)\n",
        "gb_rg_preds = gb_rg.predict(X_test)\n",
        "\n",
        "# print MSE\n",
        "print('MSE:',MSE(y_test,gb_rg_preds))"
      ],
      "metadata": {
        "id": "ujShxohVTk6P"
      },
      "execution_count": null,
      "outputs": []
    },
    {
      "cell_type": "code",
      "source": [
        "# Boosting --> Gradient Boosting \n",
        "# Classification problem\n",
        "# fit a Gradient Boosting Classifier on the training set\n",
        "X_train, X_test, y_train, y_test = train_test_split(X_cl,y_cl,test_size=0.5)\n",
        "\n",
        "gb_cl = GradientBoostingClassifier(n_estimators=100, learning_rate=0.1, max_depth=3, random_state=181)\n",
        "gb_cl.fit(X_train, y_train)\n",
        "gb_cl_preds = gb_cl.predict(X_test)\n",
        "\n",
        "# print misclassifcation rate (1 - accuracy_score)\n",
        "print('Misclassification Rate:', 1-accuracy_score(y_test, gb_cl_preds))"
      ],
      "metadata": {
        "id": "7OILWbxvXeCn"
      },
      "execution_count": null,
      "outputs": []
    },
    {
      "cell_type": "markdown",
      "source": [
        "#ML Model Selection & Evaluation"
      ],
      "metadata": {
        "id": "IU5E0NLYAZBE"
      }
    },
    {
      "cell_type": "markdown",
      "source": [
        "**Parameter Grid choices:**\n",
        "\n",
        ">We vary the **number of features** available to be between 1-9, the **maximum depth** to be between 1 and 100, the **minimum required observations per split and leaf** to be between 1 and 100 in order to decorrelate the trees in our ensemble. We vary the **number of trees** to be between 500-1000 trees to make sure that we have a sufficient amount of them."
      ],
      "metadata": {
        "id": "oYDeP21H6cZe"
      }
    },
    {
      "cell_type": "code",
      "source": [
        "path_to_df = 'https://raw.githubusercontent.com/armoutihansen/EEMP2021/main/datasets/data_task2__.csv'\n",
        "df_rfrg = pd.read_csv(path_to_df)\n",
        "df_rfrg = df_rfrg.drop(columns=['personid','wage'])\n",
        "df_rfrg = df_rfrg.dropna()\n",
        "y_rfrg = df_rfrg['z_performance']\n",
        "X_rfrg = df_rfrg.drop(columns=['z_performance'])\n",
        "X_train, X_test, y_train, y_test = train_test_split(X_rfrg,y_rfrg, test_size=0.25, random_state=181)\n",
        "\n",
        "rf = RandomForestRegressor()\n",
        "\n",
        "param_grid = {'max_features': np.arange(1, 9), 'max_depth': np.arange(1,100), 'min_samples_split': np.arange(1, 100),\n",
        "            'min_samples_leaf': np.arange(1, 100), 'n_estimators': np.arange(500, 1001, 100)}\n",
        "\n",
        "rf_cv = RandomizedSearchCV(rf, param_grid, n_iter=10, scoring='neg_mean_squared_error', cv=5, n_jobs=-1, verbose=-1).fit(X_train,y_train)\n",
        "print(rf_cv.best_estimator_)"
      ],
      "metadata": {
        "id": "HZV3_-gW7wzc"
      },
      "execution_count": null,
      "outputs": []
    },
    {
      "cell_type": "code",
      "source": [
        "# data import & manipulation for model selection by CV\n",
        "path_to_df = 'https://raw.githubusercontent.com/armoutihansen/EEMP2021/main/datasets/Default.csv'\n",
        "df_ms = pd.read_csv(path_to_df)\n",
        "df_ms['student'] = pd.get_dummies(df_ms['student'], drop_first =True)\n",
        "X=df_ms[['balance','income','student']]\n",
        "y=df_ms['default']\n",
        "X_train, X_test, y_train, y_test = train_test_split(X,y,test_size=0.25)"
      ],
      "metadata": {
        "id": "v1RgVeVdc8IS"
      },
      "execution_count": null,
      "outputs": []
    },
    {
      "cell_type": "code",
      "source": [
        "# we perform model selection on the training set using ensemble methods --> numer of hyperparameters to choose from\n",
        "# for the Random Forest --> number of estimators, the number of inputs available for consideration when a decision tree in the ensemble makes a split\n",
        "# for Gradient Boosting --> number of estimators, maximum depth of each tree in the ensemble\n",
        "# for Regression use scoring='neg_mean_squared_error'\n",
        "# for Classification use scoring='accuracy'\n",
        "# perform model selection by CV in Scikit-Learn:\n",
        "# always set n_iter=10\n",
        "\n",
        "# In this case Random Forest Classifier --> use scoring='accuracy'\n",
        "rf_ms = RandomForestClassifier()\n",
        "param_grid = {f'n_estimators':np.arange(100,1000),'max_features':np.arange(1,4)}\n",
        "cv_ms = RandomizedSearchCV(rf_ms, param_grid, n_iter=10, scoring='accuracy', cv=5, n_jobs=-1, verbose=11).fit(X_train,y_train)\n"
      ],
      "metadata": {
        "id": "yMzEXtzrYmQQ"
      },
      "execution_count": null,
      "outputs": []
    },
    {
      "cell_type": "code",
      "source": [
        "#print the best estamator\n",
        "print(cv_ms.best_estimator_)"
      ],
      "metadata": {
        "id": "lkug94joUUtN"
      },
      "execution_count": null,
      "outputs": []
    },
    {
      "cell_type": "code",
      "source": [
        "# print the MSE of the best estimator\n",
        "rf_ms_preds = cv_ms.best_estimator_.predict(X_test)\n",
        "print('MSE:', 1-accuracy_score(y_test,rf_ms_preds))"
      ],
      "metadata": {
        "id": "iIAbdj1ldo0Q"
      },
      "execution_count": null,
      "outputs": []
    },
    {
      "cell_type": "code",
      "source": [
        "# model interpretation\n",
        "# access the beta coefficients in a linear regression lr\n",
        "# to get the intercept (B^0)\n",
        "print(lr.intercept_)"
      ],
      "metadata": {
        "id": "NEGbzgA4efo7"
      },
      "execution_count": null,
      "outputs": []
    },
    {
      "cell_type": "code",
      "source": [
        "# to get the remaining coefficients ordered as in X_train\n",
        "print(lr.coef_)"
      ],
      "metadata": {
        "id": "kCjvhbQre8Mh"
      },
      "execution_count": null,
      "outputs": []
    },
    {
      "cell_type": "code",
      "source": [
        "# Neccessary for PDP\n",
        "\n",
        "cv_ms.best_estimator_.fit(X_train, y_train)"
      ],
      "metadata": {
        "id": "gidyA-pGjLnE"
      },
      "execution_count": null,
      "outputs": []
    },
    {
      "cell_type": "code",
      "source": [
        "# Partial dependence (PDP)\n",
        "# One-way PDP tells us how the dependent variable interact with the considered input keeping all other inputs constant.\n",
        "# Two-way PDP tells us how the dependent variable jointly interact with the two considered inputs keeping all other inputs constant.\n",
        "# this procedure is similar for gradient boosting and for regression problems\n",
        "\n",
        "#features = ['balance', 'income']\n",
        "#PartialDependenceDisplay.from_estimator(cv_ms.best_estimator_, X_train, features, kind='average');"
      ],
      "metadata": {
        "id": "jhu1li8ZfKu-"
      },
      "execution_count": null,
      "outputs": []
    },
    {
      "cell_type": "code",
      "source": [
        "# plot the variable importance\n",
        "# this procedure is similar for gradient boosting and for regression problems\n",
        "plt.figure(figsize=(20,7))\n",
        "fig = pd.Series(cv_ms.best_estimator_.feature_importances_*100, index=X_train.columns).plot(kind='barh')\n",
        "plt.xlabel('Percentage Improvement')\n",
        "plt.ylabel('Feature')\n",
        "plt.show();"
      ],
      "metadata": {
        "id": "7IyShy9ihYPf"
      },
      "execution_count": null,
      "outputs": []
    },
    {
      "cell_type": "code",
      "source": [
        "# Neccessary for r^2 calculation\n",
        "y_PDP = df['roce']\n",
        "X_PDP = df[['management', 'talent', 'emp']]\n",
        "X_train, X_test, y_train, y_test = train_test_split(X_PDP,y_PDP,test_size=0.5)\n",
        "lr_r = LinearRegression().fit(X_train, y_train)\n",
        "lr_r_preds = lr_r.predict(X_test)\n",
        "\n",
        "# estimate the out-of-sample R^2 for e.g. a linear regression lr\n",
        "r2_score(y_test, lr_r_preds)\n",
        "\n",
        "# this method works similar for other regression methods"
      ],
      "metadata": {
        "id": "MIb3ItX8jY5K"
      },
      "execution_count": null,
      "outputs": []
    },
    {
      "cell_type": "code",
      "source": [
        "# Partial dependence (PDP)\n",
        "# One-way PDP tells us how the dependent variable interact with the considered input keeping all other inputs constant.\n",
        "# Two-way PDP tells us how the dependent variable jointly interact with the two considered inputs keeping all other inputs constant.\n",
        "# this procedure is similar for gradient boosting and for regression problems\n",
        "\n",
        "features = ['management', 'talent']\n",
        "PartialDependenceDisplay.from_estimator(lr_r, X_train, features, kind='average');"
      ],
      "metadata": {
        "id": "yBKwisxQk5fN"
      },
      "execution_count": null,
      "outputs": []
    },
    {
      "cell_type": "markdown",
      "source": [
        "#Contents of the Lecture\n"
      ],
      "metadata": {
        "id": "fF_aPTkrF6xy"
      }
    },
    {
      "cell_type": "markdown",
      "source": [
        "##Survey Data & Scale Reliability\n",
        "\n",
        "**Three different types of studies:**\n",
        "\n",
        "\n",
        "*    Studies based on **observational** data --> e.g. data from surveys\n",
        "*   **Laboratory** experiments --> e.g. data generated by researches in the lab\n",
        "*   **Field** experiments --> e.g. Randomized controlled trial (RCT) or A/B tests\n",
        "\n",
        "**Two types of data:**\n",
        "\n",
        "*   Administrative data (O-data) --> data from IT-systems on operational processes: directly available through companies ERP-system & rather accurate\n",
        "*   Survey data (X-data) --> typically data generated through surveys: cheapt to collect & measures subjective perceptions\n",
        "\n",
        "**How to estimate the causel effect of a given practice?**\n",
        "\n",
        "*   Randomized Controlled Trial (RCT) (A/B Test)\n",
        "*   Panel Data --> common trends get visible\n",
        "\n",
        "**Psychological Construct**\n",
        "\n",
        "A Psychological construct is a label for a cluster of covarying behaviours or\n",
        "attitudes (such as job satisfaction, job engagement, but also of personality\n",
        "traits such as conscientiousness, extraversion, etc.) Typically the item responses are added up to a score and the total score than represents a person's psotition on the construct.\n",
        "\n",
        "> --> The reliability is increasing with the number of measures\n",
        "\n",
        "\n",
        "\n",
        "\n",
        "\n",
        "\n"
      ],
      "metadata": {
        "id": "wE12Zkl4GEM9"
      }
    },
    {
      "cell_type": "markdown",
      "source": [
        "##Regression\n",
        "\n",
        "Important distinction: **Prediction** and **Causality** --> Two different questions: \n",
        "\n",
        "*   Prediction: To what extent does knowing x allow us to predict y?\n",
        "*   Causality: To what extent does a change of x lead to a change of y?\n",
        "\n",
        "--> Answering the first (prediction) is typically substantially simpler than\n",
        "answering the second (causality)\n",
        "\n",
        "\n",
        "**Conditional Expectation Function (CEF):**\n",
        "\n",
        "\n",
        "*   CEF = E[Yi|Xi]\n",
        "*   Useful Interpretation: Think of E[Yi|Xi] as a function stating the mean of Yi among all people who share the same value(s) of Xi\n",
        "* CEF describes the best minimum mean square error (MMSE) prediction of Yi given Xi\n",
        "\n",
        "\n",
        "**Important distinction: Population vs Sample** --> we can estimate the population CEF from a representative sample\n",
        "\n",
        "\n",
        "**Why to use a log in a regression?**\n",
        "\n",
        "\n",
        "*   logs are less sensitive to outliers & may reduce heteroscedasticity\n",
        "*   logs sometimes lead to more convenient interpretations\n",
        "\n",
        "**Summary Regression analyses**\n",
        "\n",
        "\n",
        "*   Regression provides the best linear predictor for the dependent variable;\n",
        "the CEF provides the best unrestricted predictor\n",
        "*   Even if the CEF is non-linear, regressions provide the best linear\n",
        "approximation\n",
        "* imposing linearity reduces complexity\n",
        "+ allows for more accessible interpretations\n",
        "+ **but:** danger of oversimplification\n",
        "\n",
        "\n",
        "\n",
        "\n"
      ],
      "metadata": {
        "id": "wcAZ15vRKVCm"
      }
    },
    {
      "cell_type": "markdown",
      "source": [
        "##Statistical Tests\n",
        "\n",
        "\n",
        "\n",
        "*   Standard errors reported in regression tables yield the (estimated) standard deviation of the estimated B^\n",
        "+ The standard errors are used to construct the t-statistics\n",
        "+ From that we can compute the p-values (reported by statsmodels automatically)\n",
        "\n",
        "\n",
        "**Intuition:**\n",
        "\n",
        "\n",
        "*   If I would draw different samples (of the given size) I would obtain different estimators B^ \n",
        "+ What is the standard deviation of these B^?\n",
        "+ When this is small: we are close to the true B\n",
        "+ When this is large: there is much noise and therefore it is likely that the\n",
        "estimated B^ is further away from the true B\n",
        "\n",
        "**What the p-value tells us:**\n",
        "\n",
        "\n",
        "*   What is the probability of obtaining an estimate that is at least as(distant from 0) as the value of B^j I have estimated when the true value of were B = 0\n",
        "+ When this probability is smaller (computed using the estimated standard\n",
        "errors) we can be more certain that the true B is not zero\n",
        "+ For instance, when p < 0.05 for a certain coefficient, we say that the\n",
        "coefficient is statistically significant at the 5 % level\n"
      ],
      "metadata": {
        "id": "GduT--0gKVSN"
      }
    },
    {
      "cell_type": "markdown",
      "source": [
        "##Regression and Causality\n",
        "\n",
        "**Basic problem** with regressions and causality: we don't know if the causal expectation function (CEF) is causal\n",
        "\n",
        "**Randomized Controlled Trials (RCT or A/B tests)** eliminate the **selection bias** if the individuals are **randomly** assigned to the treatment\n",
        "\n",
        "**The Conditional Independce Assumption (CIA)**\n",
        "\n",
        "*   if the CIA holds --> conditional on X the treatment Ci is independent of potential outcomes \n",
        "*   then the difference in conditional expectations has a causal interpretation\n",
        "\n",
        "**Omitted Variable Bias**\n",
        "\n",
        "*   if the treatment effect is influenced by another variable the estimate of the causal effect is biased\n",
        "\n",
        "\n",
        "**Measurement Error**\n",
        "\n",
        "+ attenuation (=Schwächung) bias --> if a variable has a measurement error the regression underestimates the causal effect"
      ],
      "metadata": {
        "id": "66bq2NP9KVek"
      }
    },
    {
      "cell_type": "markdown",
      "source": [
        "##Panel Data & Fixed Effects\n",
        "\n",
        "One way to potentially tackle the omitted variable bias (OVB) is **longitudinal data** (=data collected over time) when the omitted factors are stable over time\n",
        "\n",
        "**Fixed Effect Regressions (Fixed Effect Models):**\n",
        "\n",
        "*   allow to estimate effects of the explaining variable by eliminating trend effects\n",
        "\n",
        "\n",
        "Caveats of Fixed Effect Regressions:\n",
        "\n",
        "*   **Common trend assumption:** You assume that treatment and control group follow the same underlying time trend --> important to keep in mind when interpreting the results of the fixed effects regression causally \n",
        "*   Fixed effects can only eliminate **time constant omitted variables**\n"
      ],
      "metadata": {
        "id": "ydiWH6heKVq7"
      }
    },
    {
      "cell_type": "markdown",
      "source": [
        "##Machine Learning\n",
        "\n",
        "###Unsupervised Learning\n",
        "\n",
        "+ we observe inputs but no outputs\n",
        "+ We can seek to understand the relationship between the variables or between the observations\n",
        "+ Example: Cluster customers into certain groups based on multiple characteristics \n",
        "\n",
        "\n",
        "###Supervised Learning\n",
        "\n",
        "*   The task of learning a function that maps an input to an output based on. example input-output pairs.\n",
        "+ The learning method learns from a training sample consisting of a set of input-output observations.\n",
        "*   Two main problems: **regression** & **classification** problems\n",
        "\n",
        "####Regression\n",
        "\n",
        "*   Deals with problems in which y is continuous or discrete and ordered\n",
        "+ Example: predict a house's selling price based on the features (#number of rooms) of it\n",
        "*   Methods used in this lecture: Linear Regression, K-Nearest-Neighbor (KNN) Regression, Decision Tree Regressor, Random Forest Regressor & Gradient Boosting Regressor\n",
        "+ metric for evaluating regression methods: **Mean Squarred Error (MSE)**\n",
        "\n",
        "\n",
        "\n",
        "####Classification\n",
        "\n",
        "*   Deals with problems in which y takes values in a finite and unordered set\n",
        "+ Example: Predict whether an employee will leave a company based on his/her age, wage, ...\n",
        "*   Methods used in this lecture: Logistic Regression, K-Nearest-Neighbor (KNN) Classifier, Decision Tree Classifier, Random Forest Classifier & Gradient Boosting Classifier\n",
        "+ metric for evaluating classification methods: **Misclassification Rate**\n",
        "\n",
        "\n",
        "####Parametric vs Non-Parametric methods\n",
        "\n",
        "*   Parametric methods: make an assumption about the functional form of of f\n",
        ">+ Advantages:\n",
        ">>*   less overfitting\n",
        ">>*   more easy to interpret\n",
        "*   Non-Parametric methods: No explicit assumptions about the funtional form of f\n",
        ">+ Advantages\n",
        ">>* better prediction accuracy\n",
        "\n",
        "\n",
        "####Model Selection\n",
        "\n",
        "**Model Selection vs Model assessment**\n",
        "\n",
        "*   **Model Selection =** estimating the performance of a model with different hyper parameters in order to choose the best one.\n",
        "*   **Model Assessment =** having chosen a final model, estimating its prediction error (generalization error)\n",
        "\n",
        "\n",
        "**No Free Lunch Theorem:** No one method dominates all other over all possible data sets \n",
        "> --> Model selection is neccessary\n",
        "\n",
        "*   when it comes to the selection of the best model, the in-sample error provides a poor estimate of a model's general performance --> this is because the selection based on the in-sample error favors complex models that fit the noise in the sample\n",
        "*   Consequence: It is important to evaluate the model's predictions on a test set\n",
        "+ **Be aware:** If we use the training data to get an estimate of the regressor's general performance, we are using data that the model already \"knows\" and was fitted on. Thus, this will generally lead to a too optimistic estimate. Therefore, it is better to use the test data which the model has not \"seen\" to get the estimate.\n",
        "+ if we have two models with approximately equal performance --> choose the simpler one of the two because it easier to interpret\n",
        "\n",
        "\n",
        "**Hyperparameters =** e.g. the number of neighbors for a KNN method.\n",
        "\n",
        "\n",
        "####Bias-Variance-Tradeoff\n",
        "\n",
        "The Bias-Variance Tradeoff describes the problem of minimizing two sources of mistakes – the bias and the variance – at the same time. There is a interaction between bias and variance which leads to the dilemma.\n",
        "> --> Two competing forces\n",
        "\n",
        "> --> Bias leads to mistakes based on false assupmtions (underfitting)\n",
        "\n",
        "> --> Variance leads to mistakes based on overfitting the training data\n",
        "\n",
        "####Cross Validation\n",
        "\n",
        "+ the error estimates estimates of the validation approach may heavily depend on the splits of the sample --> use cross validation\n",
        "*   When choosing the number of folds in the CV procedure, we are facing a bias-variance trade-off.\n",
        "*   If we pick a low number of folds, we will tend to get biased estimate\n",
        "+ If we choose a high number of folds, our estimates will have high variance.\n",
        "+ The optimal number of folds depends on the model's learning curve, which is unknown.\n",
        "+ A often used compromise is to choose k=5 or k=10.\n",
        "\n",
        "Choosing Hyperparameters with CV:\n",
        "\n",
        "*   \"One standard error rule\" --> choose the most parsimonious model with error no more than one standard error above the best error\n",
        "\n",
        "###Decision Trees\n",
        "\n",
        "+ versatile ML algorithms that can perform both classification and regression tasks\n",
        "+ tree-based method that divides the inputs into a number of simple regions\n",
        "+ Regions (e.g. R1, R2, R3) --> leaves of the tree\n",
        "+ split points --> internal nodes\n",
        "+ initial node --> root node\n",
        "+ segments of the tree that connect the nodes are branches\n",
        "+ regression decision trees use recursive binary splitting to build the tree\n",
        "+ classification decision trees use gini index to build the tree\n",
        "+ **decision trees are simple and easy to interpret**\n",
        "+ **but also very sensitive to small variations in the data --> instability**\n",
        "\n",
        "\n",
        "###Ensemble Learning\n",
        "\n",
        "####Bagging (Bootstrap Aggregating)\n",
        "\n",
        "+ **Idea:** The effectiveness of using a set of models instead of one is the better the less they are correlated. In turn this lowers the variance of our estimate.\n",
        "+ One way to decrease the variance would be to train a set of models from\n",
        "the same method (e.g.a Decision Tree) on B different training samples drawn from the population\n",
        "+ for regression problems the estimates of the singles methods are averraged\n",
        "+ for classification problems there is majority voting\n",
        "+ individual decision trees have a high variance but a low bias --> averaging then lowers the variance\n",
        "\n",
        "**Random Forest**\n",
        "\n",
        "*   ensemble of decision trees that are generally trained via the bagging method\n",
        "*   Difference between bagged trees and RF: The fundamental difference is that in Random forests, only a subset of features are selected at random out of the total and the best split feature from the subset is used to split each node in a tree, unlike in bagging where all features are considered for splitting a node.\n",
        "\n",
        "> Most important hyperparameters for RF Regressor:\n",
        "+ (a) the number of trees\n",
        "+ (b) the number of features available to each tree when making a split\n",
        "+ (c) the maximum depth of each tree in the ensemble\n",
        "+ (d) the minimum required observations per split\n",
        "+ (e) the minimum required observations per leaf.\n",
        "\n",
        "####Boosting\n",
        "\n",
        "+ Combine several weak lerners into one strong learner\n",
        ">+ Weak lerner: computionally model that performs slightly above chance\n",
        "+ Idea: Train models sequentially on the (modified) training data, where each succeeding model tries to correct its predecessor\n",
        "+ in general, models that learn slowly tend to perform well\n",
        "\n",
        "\n",
        "**Gradient Boosting**\n",
        "\n",
        "*   GB works by sequentially adding models to an ensemble\n",
        "*   each of the models attepts to correct for its predecessor\n",
        "*   One may then stop the collection if no further improvement is observed \n",
        "for several rounds, or once a certain number of trees have been reached\n",
        "\n",
        "\n",
        "###Remark Classification Errors\n",
        "\n",
        "\n",
        "![Bildschirmfoto 2021-12-11 um 14.53.22.png](data:image/png;base64,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)\n",
        "\n"
      ],
      "metadata": {
        "id": "oEeH_2MUGCoS"
      }
    },
    {
      "cell_type": "code",
      "source": [
        ""
      ],
      "metadata": {
        "id": "85HPbhceAlcu"
      },
      "execution_count": null,
      "outputs": []
    }
  ]
}